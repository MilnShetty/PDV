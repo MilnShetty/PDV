{
 "cells": [
  {
   "cell_type": "code",
   "execution_count": 36,
   "metadata": {},
   "outputs": [],
   "source": [
    "# Import BeautifulSoup for parsing HTML content\n",
    "from bs4 import BeautifulSoup\n",
    "\n",
    "# Import the requests module for making HTTP GET requests\n",
    "import requests\n",
    "\n",
    "# Import the csv module for working with CSV files\n",
    "import csv\n",
    "\n",
    "# Import pandas for data manipulation and analysis\n",
    "import pandas as pd\n"
   ]
  },
  {
   "cell_type": "markdown",
   "metadata": {},
   "source": [
    "Scrape data contents from a single web page using Beautiful soup library.\n"
   ]
  },
  {
   "cell_type": "code",
   "execution_count": 40,
   "metadata": {},
   "outputs": [],
   "source": [
    "import requests\n",
    "from bs4 import BeautifulSoup\n",
    "\n",
    "# URL of the movie script webpage\n",
    "website = 'https://subslikescript.com/movie/Titanic-120338'\n",
    "\n",
    "# Send a GET request to the webpage\n",
    "result = requests.get(website)\n",
    "content = result.text\n",
    "\n",
    "# Create a BeautifulSoup object to parse the HTML content\n",
    "soup = BeautifulSoup(content, 'lxml')\n",
    "\n",
    "# Uncomment the line below to print the prettified HTML\n",
    "# print(soup.prettify())\n",
    "\n",
    "# Find the main article section containing the movie information\n",
    "box = soup.find('article', class_='main-article')\n",
    "\n",
    "# Extract the title of the movie\n",
    "title = box.find('h1').get_text()\n",
    "\n",
    "# Extract the transcript of the movie\n",
    "transcript = box.find('div', class_='full-script').get_text(strip=True, separator='')\n",
    "\n",
    "# Uncomment the lines below to print the extracted title and transcript\n",
    "# print(title)\n",
    "# print('\\n')\n",
    "# print(transcript)\n",
    "\n",
    "# Write the transcript to a text file using the movie title as the filename\n",
    "with open(f'{title}.txt', 'w') as file:\n",
    "    file.write(transcript)\n"
   ]
  }
 ],
 "metadata": {
  "kernelspec": {
   "display_name": "pycaretenv",
   "language": "python",
   "name": "python3"
  },
  "language_info": {
   "codemirror_mode": {
    "name": "ipython",
    "version": 3
   },
   "file_extension": ".py",
   "mimetype": "text/x-python",
   "name": "python",
   "nbconvert_exporter": "python",
   "pygments_lexer": "ipython3",
   "version": "3.9.17"
  },
  "orig_nbformat": 4
 },
 "nbformat": 4,
 "nbformat_minor": 2
}
